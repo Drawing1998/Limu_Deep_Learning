{
 "cells": [
  {
   "cell_type": "markdown",
   "id": "78dba313",
   "metadata": {},
   "source": [
    "# 1. 生成数据集"
   ]
  },
  {
   "cell_type": "code",
   "execution_count": 1,
   "id": "46de6844",
   "metadata": {},
   "outputs": [],
   "source": [
    "import numpy as np\n",
    "import torch\n",
    "from torch.utils import data\n",
    "from d2l import torch as d2l\n",
    "\n",
    "true_w = torch.tensor([2, -3.4])\n",
    "true_b = 4.2\n",
    "features, labels = d2l.synthetic_data(true_w, true_b, 1000)"
   ]
  },
  {
   "cell_type": "markdown",
   "id": "4920dac6",
   "metadata": {},
   "source": [
    "# 2. 读取数据集"
   ]
  },
  {
   "cell_type": "code",
   "execution_count": 2,
   "id": "2c3ddaf3",
   "metadata": {},
   "outputs": [
    {
     "data": {
      "text/plain": [
       "[tensor([[-0.1302,  0.8933],\n",
       "         [ 0.1327,  1.4475],\n",
       "         [ 0.5654,  0.1513],\n",
       "         [-0.3900, -1.1950],\n",
       "         [ 0.7036,  0.1807],\n",
       "         [ 0.2214,  0.3736],\n",
       "         [ 0.9538, -0.3348],\n",
       "         [-0.9888,  0.9213],\n",
       "         [-1.2267, -1.8029],\n",
       "         [-0.4357, -0.2360]]),\n",
       " tensor([[ 0.8989],\n",
       "         [-0.4544],\n",
       "         [ 4.8364],\n",
       "         [ 7.4782],\n",
       "         [ 4.9868],\n",
       "         [ 3.3898],\n",
       "         [ 7.2712],\n",
       "         [-0.9092],\n",
       "         [ 7.8595],\n",
       "         [ 4.1088]])]"
      ]
     },
     "execution_count": 2,
     "metadata": {},
     "output_type": "execute_result"
    }
   ],
   "source": [
    "def load_array(data_arrays, batch_size, is_train=True):\n",
    "    \"\"\"构造一个PyTorch数据迭代器\"\"\"\n",
    "    dataset = data.TensorDataset(*data_arrays)\n",
    "    return data.DataLoader(dataset, batch_size, shuffle=is_train)\n",
    "\n",
    "batch_size = 10\n",
    "data_iter = load_array((features, labels), batch_size)\n",
    "\n",
    "next(iter(data_iter))    # 这里我们使用iter构造Python迭代器，并使用next从迭代器中获取第一项"
   ]
  },
  {
   "cell_type": "markdown",
   "id": "92dc0ba5",
   "metadata": {},
   "source": [
    "# 3. 定义模型\n",
    "\n",
    "Sequential类将多个层串联在一起。 当给定输入数据时，Sequential实例将数据传入到第一层， 然后将第一层的输出作为第二层的输入，以此类推。\n",
    "\n",
    "我们的模型只有一层，即单层神经网络。"
   ]
  },
  {
   "cell_type": "code",
   "execution_count": 3,
   "id": "7a373a5a",
   "metadata": {},
   "outputs": [],
   "source": [
    "# nn是神经网络的缩写\n",
    "from torch import nn\n",
    "\n",
    "net = nn.Sequential(nn.Linear(2, 1))    # 第一个指定输入特征形状，即2，第二个指定输出特征形状，输出特征形状为单个标量，因此为1"
   ]
  },
  {
   "cell_type": "markdown",
   "id": "a020e7ed",
   "metadata": {},
   "source": [
    "# 4. 初始化模型参数"
   ]
  },
  {
   "cell_type": "code",
   "execution_count": 4,
   "id": "28b6120f",
   "metadata": {},
   "outputs": [
    {
     "data": {
      "text/plain": [
       "tensor([0.])"
      ]
     },
     "execution_count": 4,
     "metadata": {},
     "output_type": "execute_result"
    }
   ],
   "source": [
    "net[0].weight.data.normal_(0, 0.01)     # 通过net[0]选择网络中的第一个图层，使用正态分布替换掉data中的值\n",
    "net[0].bias.data.fill_(0)"
   ]
  },
  {
   "cell_type": "markdown",
   "id": "89e63dcf",
   "metadata": {},
   "source": [
    "# 5. 定义损失函数"
   ]
  },
  {
   "cell_type": "code",
   "execution_count": 5,
   "id": "4366c8f1",
   "metadata": {},
   "outputs": [],
   "source": [
    "loss = nn.MSELoss()        # 返回所有样本损失的平均值"
   ]
  },
  {
   "cell_type": "markdown",
   "id": "b167fcb3",
   "metadata": {},
   "source": [
    "# 6. 定义优化算法\n",
    "\n",
    "小批量随机梯度下降算法是一种优化神经网络的标准工具， PyTorch在optim模块中实现了该算法的许多变种。\n",
    "\n",
    "当我们实例化一个SGD实例时，我们要指定优化的参数 （可通过net.parameters()从我们的模型中获得）以及优化算法所需的超参数字典。 小批量随机梯度下降只需要设置lr值，这里设置为0.03。"
   ]
  },
  {
   "cell_type": "code",
   "execution_count": 6,
   "id": "1dc36925",
   "metadata": {},
   "outputs": [],
   "source": [
    "trainer = torch.optim.SGD(net.parameters(), lr=0.03)"
   ]
  },
  {
   "cell_type": "markdown",
   "id": "2b18138b",
   "metadata": {},
   "source": [
    "# 7. 训练"
   ]
  },
  {
   "cell_type": "code",
   "execution_count": 7,
   "id": "530551a6",
   "metadata": {},
   "outputs": [
    {
     "name": "stdout",
     "output_type": "stream",
     "text": [
      "epoch 1, loss 0.000208\n",
      "epoch 2, loss 0.000107\n",
      "epoch 3, loss 0.000106\n"
     ]
    }
   ],
   "source": [
    "num_epochs = 3\n",
    "for epoch in range(num_epochs):\n",
    "    for X, y in data_iter:\n",
    "        l = loss(net(X) ,y)\n",
    "        trainer.zero_grad()    # 将优化器中的梯度清零\n",
    "        l.backward()           # 反向传播计算梯度\n",
    "        trainer.step()         # 调用step()函数来进行模型参数更新\n",
    "    l = loss(net(features), labels)\n",
    "    print(f'epoch {epoch + 1}, loss {l:f}')"
   ]
  },
  {
   "cell_type": "code",
   "execution_count": 8,
   "id": "6425fc5e",
   "metadata": {},
   "outputs": [
    {
     "name": "stdout",
     "output_type": "stream",
     "text": [
      "w的估计误差： tensor([-0.0002, -0.0009])\n",
      "b的估计误差： tensor([8.1062e-05])\n"
     ]
    }
   ],
   "source": [
    "w = net[0].weight.data\n",
    "print('w的估计误差：', true_w - w.reshape(true_w.shape))\n",
    "b = net[0].bias.data\n",
    "print('b的估计误差：', true_b - b)"
   ]
  },
  {
   "cell_type": "code",
   "execution_count": null,
   "id": "8550ee30",
   "metadata": {},
   "outputs": [],
   "source": []
  }
 ],
 "metadata": {
  "kernelspec": {
   "display_name": "myEnv01",
   "language": "python",
   "name": "myenv01"
  },
  "language_info": {
   "codemirror_mode": {
    "name": "ipython",
    "version": 3
   },
   "file_extension": ".py",
   "mimetype": "text/x-python",
   "name": "python",
   "nbconvert_exporter": "python",
   "pygments_lexer": "ipython3",
   "version": "3.6.13"
  }
 },
 "nbformat": 4,
 "nbformat_minor": 5
}
