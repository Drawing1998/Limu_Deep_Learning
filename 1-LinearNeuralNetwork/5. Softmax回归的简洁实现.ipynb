{
 "cells": [
  {
   "cell_type": "markdown",
   "id": "b3285b38",
   "metadata": {},
   "source": [
    "通过深度学习框架的高级API能够使使Softmax回归的实现更加容易。"
   ]
  },
  {
   "cell_type": "code",
   "execution_count": 1,
   "id": "b6249717",
   "metadata": {},
   "outputs": [],
   "source": [
    "import torch\n",
    "from torch import nn\n",
    "from d2l import torch as d2l\n",
    "\n",
    "batch_size = 256\n",
    "train_iter, test_iter = d2l.load_data_fashion_mnist(batch_size)"
   ]
  },
  {
   "cell_type": "markdown",
   "id": "f45d56ea",
   "metadata": {},
   "source": [
    "# 1. 初始化模型参数\n",
    "\n",
    "softmax回归的输出层是一个全连接层。 因此，为了实现我们的模型， 我们只需在Sequential中添加一个带有10个输出的全连接层。 同样，在这里Sequential并不是必要的， 但它是实现深度模型的基础。 \n",
    "\n",
    "我们仍然以均值0和标准差0.01随机初始化权重。"
   ]
  },
  {
   "cell_type": "code",
   "execution_count": 2,
   "id": "090623ff",
   "metadata": {},
   "outputs": [],
   "source": [
    "# PyTorch不会隐式地调整输入的形状。因此，\n",
    "# 我们在线性层前定义了展平层（flatten），来调整网络输入的形状\n",
    "net = nn.Sequential(nn.Flatten(), nn.Linear(784, 10))     # 输入是784，输出是10\n",
    "\n",
    "def init_weights(m):\n",
    "    if type(m) == nn.Linear:\n",
    "        nn.init.normal_(m.weight, std=0.01)\n",
    "\n",
    "net.apply(init_weights);       # 将init_weight函数apply到net上面"
   ]
  },
  {
   "cell_type": "markdown",
   "id": "5e0c82f8",
   "metadata": {},
   "source": [
    "# 2. 损失函数"
   ]
  },
  {
   "cell_type": "code",
   "execution_count": 3,
   "id": "4f304e15",
   "metadata": {},
   "outputs": [],
   "source": [
    "loss = nn.CrossEntropyLoss()"
   ]
  },
  {
   "cell_type": "markdown",
   "id": "65be80a5",
   "metadata": {},
   "source": [
    "# 3. 优化算法"
   ]
  },
  {
   "cell_type": "code",
   "execution_count": 4,
   "id": "d67b9183",
   "metadata": {},
   "outputs": [],
   "source": [
    "trainer = torch.optim.SGD(net.parameters(), lr=0.1)      # 直接从net中取参数，学习率为0.1"
   ]
  },
  {
   "cell_type": "code",
   "execution_count": null,
   "id": "a1292b52",
   "metadata": {},
   "outputs": [],
   "source": []
  }
 ],
 "metadata": {
  "kernelspec": {
   "display_name": "myEnv01",
   "language": "python",
   "name": "myenv01"
  },
  "language_info": {
   "codemirror_mode": {
    "name": "ipython",
    "version": 3
   },
   "file_extension": ".py",
   "mimetype": "text/x-python",
   "name": "python",
   "nbconvert_exporter": "python",
   "pygments_lexer": "ipython3",
   "version": "3.6.13"
  }
 },
 "nbformat": 4,
 "nbformat_minor": 5
}
